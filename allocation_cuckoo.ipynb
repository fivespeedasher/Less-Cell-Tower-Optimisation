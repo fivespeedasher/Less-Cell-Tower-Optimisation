{
 "cells": [
  {
   "cell_type": "markdown",
   "metadata": {},
   "source": [
    "# 布谷鸟算法求解基站分配问题  \n",
    "要求：每个基站的有效范围为10Km，欲让基站信号覆盖所有小区，求解最小的基站数目以及其位置。"
   ]
  },
  {
   "cell_type": "code",
   "execution_count": 136,
   "metadata": {},
   "outputs": [],
   "source": [
    "from math import radians, cos, sin, asin, sqrt\n",
    "import numpy as np\n",
    "import scipy.special as sc_special\n",
    "import warnings\n",
    "warnings.filterwarnings('ignore')"
   ]
  },
  {
   "cell_type": "markdown",
   "metadata": {},
   "source": [
    "### 把经纬度换成km存入数组"
   ]
  },
  {
   "cell_type": "code",
   "execution_count": 137,
   "metadata": {},
   "outputs": [],
   "source": [
    "import pandas as pd\n",
    "import matplotlib.pyplot as plt"
   ]
  },
  {
   "cell_type": "code",
   "execution_count": 138,
   "metadata": {},
   "outputs": [],
   "source": [
    "# 取出数据\n",
    "df_lnla = pd.read_excel('深圳市楼盘带经纬度.xls')\n",
    "df_lnla.head()\n",
    "build_num = len(df_lnla['小区'])"
   ]
  },
  {
   "cell_type": "code",
   "execution_count": 139,
   "metadata": {},
   "outputs": [
    {
     "data": {
      "text/html": [
       "<div>\n",
       "<style scoped>\n",
       "    .dataframe tbody tr th:only-of-type {\n",
       "        vertical-align: middle;\n",
       "    }\n",
       "\n",
       "    .dataframe tbody tr th {\n",
       "        vertical-align: top;\n",
       "    }\n",
       "\n",
       "    .dataframe thead th {\n",
       "        text-align: right;\n",
       "    }\n",
       "</style>\n",
       "<table border=\"1\" class=\"dataframe\">\n",
       "  <thead>\n",
       "    <tr style=\"text-align: right;\">\n",
       "      <th></th>\n",
       "      <th>小区</th>\n",
       "      <th>x</th>\n",
       "      <th>y</th>\n",
       "    </tr>\n",
       "  </thead>\n",
       "  <tbody>\n",
       "    <tr>\n",
       "      <th>0</th>\n",
       "      <td>百旺信高管公寓</td>\n",
       "      <td>2500.914217</td>\n",
       "      <td>10481.138640</td>\n",
       "    </tr>\n",
       "    <tr>\n",
       "      <th>1</th>\n",
       "      <td>百旺信管理综合楼</td>\n",
       "      <td>2514.165892</td>\n",
       "      <td>10482.324336</td>\n",
       "    </tr>\n",
       "    <tr>\n",
       "      <th>2</th>\n",
       "      <td>保利城大厦</td>\n",
       "      <td>2514.250661</td>\n",
       "      <td>10482.351108</td>\n",
       "    </tr>\n",
       "    <tr>\n",
       "      <th>3</th>\n",
       "      <td>碧海天</td>\n",
       "      <td>2501.372171</td>\n",
       "      <td>10481.813184</td>\n",
       "    </tr>\n",
       "    <tr>\n",
       "      <th>4</th>\n",
       "      <td>碧海云天</td>\n",
       "      <td>2501.260960</td>\n",
       "      <td>10481.566716</td>\n",
       "    </tr>\n",
       "  </tbody>\n",
       "</table>\n",
       "</div>"
      ],
      "text/plain": [
       "         小区            x             y\n",
       "0   百旺信高管公寓  2500.914217  10481.138640\n",
       "1  百旺信管理综合楼  2514.165892  10482.324336\n",
       "2     保利城大厦  2514.250661  10482.351108\n",
       "3       碧海天  2501.372171  10481.813184\n",
       "4      碧海云天  2501.260960  10481.566716"
      ]
     },
     "execution_count": 139,
     "metadata": {},
     "output_type": "execute_result"
    }
   ],
   "source": [
    "# 转换成km\n",
    "df_km = df_lnla.copy()\n",
    "df_km['经度'] *= 111.1\n",
    "df_km['纬度'] *= 92\n",
    "df_km.columns = ['小区','x','y']\n",
    "df_km.head()"
   ]
  },
  {
   "cell_type": "code",
   "execution_count": 149,
   "metadata": {},
   "outputs": [
    {
     "data": {
      "text/plain": [
       "array([[ 2502.9938978, 10479.766552 ],\n",
       "       [ 2506.5158789, 10486.577128 ],\n",
       "       [ 2502.6578203, 10481.420252 ],\n",
       "       [ 2505.1742353, 10481.052804 ],\n",
       "       [ 2508.6098917, 10483.888244 ]])"
      ]
     },
     "execution_count": 149,
     "metadata": {},
     "output_type": "execute_result"
    },
    {
     "data": {
      "image/png": "[encoded data removed]",
      "text/plain": [
       "<Figure size 432x288 with 1 Axes>"
      ]
     },
     "metadata": {
      "needs_background": "light"
     },
     "output_type": "display_data"
    }
   ],
   "source": [
    "# 画出来吧\n",
    "x = np.array(df_km['x'])\n",
    "y = np.array(df_km['y'])\n",
    "assert(len(x) == len(y))\n",
    "plt.scatter(x,y,s=10,c='r',alpha=0.7)\n",
    "\n",
    "# 生成一个元素存放一个点的数组\n",
    "x = [[i] for i in x]\n",
    "y = [[i] for i in y]\n",
    "buildings = np.concatenate((x, y), axis=1)\n",
    "buildings[-5:]"
   ]
  },
  {
   "cell_type": "markdown",
   "metadata": {},
   "source": [
    "### 找出相互距离在20km之内的节点组合"
   ]
  },
  {
   "cell_type": "code",
   "execution_count": 141,
   "metadata": {},
   "outputs": [],
   "source": [
    "import scipy.spatial"
   ]
  },
  {
   "cell_type": "code",
   "execution_count": 142,
   "metadata": {},
   "outputs": [
    {
     "data": {
      "text/html": [
       "<div>\n",
       "<style scoped>\n",
       "    .dataframe tbody tr th:only-of-type {\n",
       "        vertical-align: middle;\n",
       "    }\n",
       "\n",
       "    .dataframe tbody tr th {\n",
       "        vertical-align: top;\n",
       "    }\n",
       "\n",
       "    .dataframe thead th {\n",
       "        text-align: right;\n",
       "    }\n",
       "</style>\n",
       "<table border=\"1\" class=\"dataframe\">\n",
       "  <thead>\n",
       "    <tr style=\"text-align: right;\">\n",
       "      <th>小区</th>\n",
       "      <th>百旺信高管公寓</th>\n",
       "      <th>百旺信管理综合楼</th>\n",
       "      <th>保利城大厦</th>\n",
       "      <th>碧海天</th>\n",
       "      <th>碧海云天</th>\n",
       "      <th>滨福世纪广场</th>\n",
       "      <th>滨福庭园</th>\n",
       "      <th>滨海之窗</th>\n",
       "      <th>缤纷假日花园</th>\n",
       "      <th>缤纷年华</th>\n",
       "      <th>...</th>\n",
       "      <th>园景园</th>\n",
       "      <th>跃华园</th>\n",
       "      <th>粤海工业村5－6栋</th>\n",
       "      <th>云海天城</th>\n",
       "      <th>云栖西岸阁</th>\n",
       "      <th>中爱花园</th>\n",
       "      <th>中润百分百公寓</th>\n",
       "      <th>中山颐景</th>\n",
       "      <th>众冠西郡园</th>\n",
       "      <th>碧海蓝天</th>\n",
       "    </tr>\n",
       "    <tr>\n",
       "      <th>小区</th>\n",
       "      <th></th>\n",
       "      <th></th>\n",
       "      <th></th>\n",
       "      <th></th>\n",
       "      <th></th>\n",
       "      <th></th>\n",
       "      <th></th>\n",
       "      <th></th>\n",
       "      <th></th>\n",
       "      <th></th>\n",
       "      <th></th>\n",
       "      <th></th>\n",
       "      <th></th>\n",
       "      <th></th>\n",
       "      <th></th>\n",
       "      <th></th>\n",
       "      <th></th>\n",
       "      <th></th>\n",
       "      <th></th>\n",
       "      <th></th>\n",
       "      <th></th>\n",
       "    </tr>\n",
       "  </thead>\n",
       "  <tbody>\n",
       "    <tr>\n",
       "      <th>百旺信高管公寓</th>\n",
       "      <td>0.000000</td>\n",
       "      <td>13.304614</td>\n",
       "      <td>13.391446</td>\n",
       "      <td>0.815311</td>\n",
       "      <td>0.550890</td>\n",
       "      <td>6.746112</td>\n",
       "      <td>2.735301</td>\n",
       "      <td>2.750395</td>\n",
       "      <td>1.445571</td>\n",
       "      <td>1.124848</td>\n",
       "      <td>...</td>\n",
       "      <td>3.235710</td>\n",
       "      <td>1.897733</td>\n",
       "      <td>1.718830</td>\n",
       "      <td>0.261405</td>\n",
       "      <td>0.674157</td>\n",
       "      <td>2.491525</td>\n",
       "      <td>7.807418</td>\n",
       "      <td>1.766199</td>\n",
       "      <td>4.260883</td>\n",
       "      <td>8.172131</td>\n",
       "    </tr>\n",
       "    <tr>\n",
       "      <th>百旺信管理综合楼</th>\n",
       "      <td>13.304614</td>\n",
       "      <td>0.000000</td>\n",
       "      <td>0.088896</td>\n",
       "      <td>12.803928</td>\n",
       "      <td>12.927152</td>\n",
       "      <td>11.705334</td>\n",
       "      <td>11.684931</td>\n",
       "      <td>11.538477</td>\n",
       "      <td>12.146940</td>\n",
       "      <td>12.186946</td>\n",
       "      <td>...</td>\n",
       "      <td>10.171594</td>\n",
       "      <td>15.133508</td>\n",
       "      <td>11.607121</td>\n",
       "      <td>13.491141</td>\n",
       "      <td>12.963253</td>\n",
       "      <td>11.461052</td>\n",
       "      <td>8.752653</td>\n",
       "      <td>11.543529</td>\n",
       "      <td>9.081116</td>\n",
       "      <td>5.771910</td>\n",
       "    </tr>\n",
       "    <tr>\n",
       "      <th>保利城大厦</th>\n",
       "      <td>13.391446</td>\n",
       "      <td>0.088896</td>\n",
       "      <td>0.000000</td>\n",
       "      <td>12.889719</td>\n",
       "      <td>13.013362</td>\n",
       "      <td>11.770650</td>\n",
       "      <td>11.767077</td>\n",
       "      <td>11.620846</td>\n",
       "      <td>12.232282</td>\n",
       "      <td>12.273586</td>\n",
       "      <td>...</td>\n",
       "      <td>10.259538</td>\n",
       "      <td>15.219605</td>\n",
       "      <td>11.694347</td>\n",
       "      <td>13.578224</td>\n",
       "      <td>13.049161</td>\n",
       "      <td>11.549660</td>\n",
       "      <td>8.813972</td>\n",
       "      <td>11.630152</td>\n",
       "      <td>9.168811</td>\n",
       "      <td>5.846457</td>\n",
       "    </tr>\n",
       "    <tr>\n",
       "      <th>碧海天</th>\n",
       "      <td>0.815311</td>\n",
       "      <td>12.803928</td>\n",
       "      <td>12.889719</td>\n",
       "      <td>0.000000</td>\n",
       "      <td>0.270397</td>\n",
       "      <td>5.947324</td>\n",
       "      <td>1.920649</td>\n",
       "      <td>1.940168</td>\n",
       "      <td>0.697596</td>\n",
       "      <td>0.788756</td>\n",
       "      <td>...</td>\n",
       "      <td>2.960785</td>\n",
       "      <td>2.337270</td>\n",
       "      <td>1.477119</td>\n",
       "      <td>1.075686</td>\n",
       "      <td>0.172026</td>\n",
       "      <td>2.611264</td>\n",
       "      <td>7.010912</td>\n",
       "      <td>1.344355</td>\n",
       "      <td>3.877353</td>\n",
       "      <td>7.529308</td>\n",
       "    </tr>\n",
       "    <tr>\n",
       "      <th>碧海云天</th>\n",
       "      <td>0.550890</td>\n",
       "      <td>12.927152</td>\n",
       "      <td>13.013362</td>\n",
       "      <td>0.270397</td>\n",
       "      <td>0.000000</td>\n",
       "      <td>6.217488</td>\n",
       "      <td>2.185297</td>\n",
       "      <td>2.199535</td>\n",
       "      <td>0.910879</td>\n",
       "      <td>0.784197</td>\n",
       "      <td>...</td>\n",
       "      <td>2.985009</td>\n",
       "      <td>2.207509</td>\n",
       "      <td>1.467371</td>\n",
       "      <td>0.812267</td>\n",
       "      <td>0.180643</td>\n",
       "      <td>2.498732</td>\n",
       "      <td>7.260744</td>\n",
       "      <td>1.404518</td>\n",
       "      <td>3.946876</td>\n",
       "      <td>7.706899</td>\n",
       "    </tr>\n",
       "  </tbody>\n",
       "</table>\n",
       "<p>5 rows × 203 columns</p>\n",
       "</div>"
      ],
      "text/plain": [
       "小区          百旺信高管公寓   百旺信管理综合楼      保利城大厦        碧海天       碧海云天     滨福世纪广场  \\\n",
       "小区                                                                           \n",
       "百旺信高管公寓    0.000000  13.304614  13.391446   0.815311   0.550890   6.746112   \n",
       "百旺信管理综合楼  13.304614   0.000000   0.088896  12.803928  12.927152  11.705334   \n",
       "保利城大厦     13.391446   0.088896   0.000000  12.889719  13.013362  11.770650   \n",
       "碧海天        0.815311  12.803928  12.889719   0.000000   0.270397   5.947324   \n",
       "碧海云天       0.550890  12.927152  13.013362   0.270397   0.000000   6.217488   \n",
       "\n",
       "小区             滨福庭园       滨海之窗     缤纷假日花园       缤纷年华  ...        园景园  \\\n",
       "小区                                                    ...              \n",
       "百旺信高管公寓    2.735301   2.750395   1.445571   1.124848  ...   3.235710   \n",
       "百旺信管理综合楼  11.684931  11.538477  12.146940  12.186946  ...  10.171594   \n",
       "保利城大厦     11.767077  11.620846  12.232282  12.273586  ...  10.259538   \n",
       "碧海天        1.920649   1.940168   0.697596   0.788756  ...   2.960785   \n",
       "碧海云天       2.185297   2.199535   0.910879   0.784197  ...   2.985009   \n",
       "\n",
       "小区              跃华园  粤海工业村5－6栋       云海天城      云栖西岸阁       中爱花园   中润百分百公寓  \\\n",
       "小区                                                                          \n",
       "百旺信高管公寓    1.897733   1.718830   0.261405   0.674157   2.491525  7.807418   \n",
       "百旺信管理综合楼  15.133508  11.607121  13.491141  12.963253  11.461052  8.752653   \n",
       "保利城大厦     15.219605  11.694347  13.578224  13.049161  11.549660  8.813972   \n",
       "碧海天        2.337270   1.477119   1.075686   0.172026   2.611264  7.010912   \n",
       "碧海云天       2.207509   1.467371   0.812267   0.180643   2.498732  7.260744   \n",
       "\n",
       "小区             中山颐景     众冠西郡园      碧海蓝天  \n",
       "小区                                       \n",
       "百旺信高管公寓    1.766199  4.260883  8.172131  \n",
       "百旺信管理综合楼  11.543529  9.081116  5.771910  \n",
       "保利城大厦     11.630152  9.168811  5.846457  \n",
       "碧海天        1.344355  3.877353  7.529308  \n",
       "碧海云天       1.404518  3.946876  7.706899  \n",
       "\n",
       "[5 rows x 203 columns]"
      ]
     },
     "execution_count": 142,
     "metadata": {},
     "output_type": "execute_result"
    }
   ],
   "source": [
    "# 计算各小区间的的距离\n",
    "build2build = scipy.spatial.distance.cdist(buildings,buildings,metric='euclidean') # 欧式距离算各点间的距离\n",
    "# 输出到excel中\n",
    "df_build2build = pd.DataFrame(build2build)\n",
    "df_build2build.columns = df_km['小区']\n",
    "df_build2build.index = df_km['小区']\n",
    "df_build2build.to_csv('小区与小区间的距离.csv', encoding=\"utf_8_sig\")\n",
    "df_build2build.head()"
   ]
  },
  {
   "cell_type": "code",
   "execution_count": 143,
   "metadata": {},
   "outputs": [],
   "source": [
    "# 找出各小区与其距离20km内的小区\n",
    "close_ind = np.argwhere((build2build <=20) & (build2build != 0))\n",
    "close_dict = {i:set([]) for i in range(build_num)}   # 以字典形式存起来\n",
    "for _ in close_ind:\n",
    "    close_dict[_[0]].add(_[1])"
   ]
  },
  {
   "cell_type": "markdown",
   "metadata": {},
   "source": [
    "### 建立基站  \n",
    "- 小区有0个20km内的小区，则基站定于小区位置附近的随机坐标\n",
    "- 小区有1个20km内的小区，则基站定于两者之间\n",
    "- 小区有2个及以上20km内的小区，进行布谷鸟迭代选址"
   ]
  },
  {
   "cell_type": "markdown",
   "metadata": {},
   "source": [
    "#### 处理有0、1邻居的小区"
   ]
  },
  {
   "cell_type": "code",
   "execution_count": 144,
   "metadata": {},
   "outputs": [
    {
     "name": "stdout",
     "output_type": "stream",
     "text": [
      "[[array([25.5757961]), array([103.797931])], [array([29.2181587]), array([106.2355073])], [array([28.6493853]), array([110.89975961])], [array([28.3944186]), array([120.00211539])], [array([27.9818761]), array([120.68852543])], [array([39.9334807]), array([116.1861963])], [array([32.1045063]), array([118.72283761])], [array([22.2276022]), array([113.52468961])]]\n",
      "[]\n"
     ]
    }
   ],
   "source": [
    "s = {0:[], 1:[], 2:[]}  # 存放已建立基站的km坐标\n",
    "close_temp = close_dict\n",
    "cover = set([]) # 信号已覆盖的小区\n",
    "# proceing = set([])  #正在处理的多邻居小区\n",
    "# neig_cluster = []   #   存放多小区的邻居与邻居的邻居\n",
    "\n",
    "\"\"\"对0、1邻居小区的建基站,多小区的进行聚集合并\"\"\"\n",
    "for k in list(close_temp.keys()):\n",
    "    v = close_temp[k]\n",
    "\n",
    "    # 处理0个小区的\n",
    "    if len(v) == 0:\n",
    "        #  print(k) \n",
    "        #   附近生成随机基站\n",
    "        x_s = df_km.iloc[k, 1]+np.random.randint(-10, high=10,size=1)\n",
    "        y_s = df_km.iloc[k, 2]+np.random.randint(-10, high=10,size=1)\n",
    "        s[0].append([x_s/111.1,y_s/92])\n",
    "        cover.add(k)\n",
    "        del close_temp[k]\n",
    "\n",
    "    #   处理1个小区的\n",
    "    elif len(v) == 1:\n",
    "        if k not in cover:\n",
    "            x1, y1 = df_km.iloc[k, 1], df_km.iloc[k, 2]\n",
    "            x2, y2 = df_km.iloc[v, 1], df_km.iloc[v, 2]\n",
    "            s[1].append([(x1 + x2) / 2, (y1 + y2) / 2])\n",
    "            cover.update(k, v)\n",
    "        else:pass\n",
    "        del close_temp[k]\n",
    "\n",
    "    #   聚集多小区的邻居与邻居的邻居\n",
    "    else:\n",
    "        # if k not in cover:\n",
    "        #     temp = close_temp[k].add(k)\n",
    "        #     for i in close_temp[k]:\n",
    "        #         temp.update(close_temp[i],{i})\n",
    "        #     temp\n",
    "        pass\n",
    "cover\n",
    "print(s[0])\n",
    "print(s[1])\n"
   ]
  },
  {
   "cell_type": "markdown",
   "metadata": {},
   "source": [
    "#### 处理有多个邻居的小区"
   ]
  },
  {
   "cell_type": "code",
   "execution_count": 145,
   "metadata": {},
   "outputs": [
    {
     "data": {
      "text/html": [
       "<div>\n",
       "<style scoped>\n",
       "    .dataframe tbody tr th:only-of-type {\n",
       "        vertical-align: middle;\n",
       "    }\n",
       "\n",
       "    .dataframe tbody tr th {\n",
       "        vertical-align: top;\n",
       "    }\n",
       "\n",
       "    .dataframe thead th {\n",
       "        text-align: right;\n",
       "    }\n",
       "</style>\n",
       "<table border=\"1\" class=\"dataframe\">\n",
       "  <thead>\n",
       "    <tr style=\"text-align: right;\">\n",
       "      <th></th>\n",
       "      <th>x</th>\n",
       "      <th>y</th>\n",
       "    </tr>\n",
       "  </thead>\n",
       "  <tbody>\n",
       "    <tr>\n",
       "      <th>198</th>\n",
       "      <td>2502.993898</td>\n",
       "      <td>10479.766552</td>\n",
       "    </tr>\n",
       "    <tr>\n",
       "      <th>199</th>\n",
       "      <td>2506.515879</td>\n",
       "      <td>10486.577128</td>\n",
       "    </tr>\n",
       "    <tr>\n",
       "      <th>200</th>\n",
       "      <td>2502.657820</td>\n",
       "      <td>10481.420252</td>\n",
       "    </tr>\n",
       "    <tr>\n",
       "      <th>201</th>\n",
       "      <td>2505.174235</td>\n",
       "      <td>10481.052804</td>\n",
       "    </tr>\n",
       "    <tr>\n",
       "      <th>202</th>\n",
       "      <td>2508.609892</td>\n",
       "      <td>10483.888244</td>\n",
       "    </tr>\n",
       "  </tbody>\n",
       "</table>\n",
       "</div>"
      ],
      "text/plain": [
       "               x             y\n",
       "198  2502.993898  10479.766552\n",
       "199  2506.515879  10486.577128\n",
       "200  2502.657820  10481.420252\n",
       "201  2505.174235  10481.052804\n",
       "202  2508.609892  10483.888244"
      ]
     },
     "execution_count": 145,
     "metadata": {},
     "output_type": "execute_result"
    }
   ],
   "source": [
    "#   将多个小区新建表单存储\n",
    "multi_neig = close_temp.keys()\n",
    "lng_a, lat_a = df_km.iloc[list(multi_neig),1], df_km.iloc[list(multi_neig),2]\n",
    "df_multi_neig = pd.DataFrame(index=multi_neig)\n",
    "df_multi_neig['x'] = lng_a\n",
    "df_multi_neig['y'] = lat_a\n",
    "df_multi_neig.to_csv('多个邻居的小区位置.csv', encoding=\"utf_8_sig\")\n",
    "df_multi_neig.tail()"
   ]
  },
  {
   "cell_type": "code",
   "execution_count": 146,
   "metadata": {},
   "outputs": [
    {
     "data": {
      "text/plain": [
       "array([[ 2500.9142169, 10481.13864  ],\n",
       "       [ 2514.1658916, 10482.324336 ],\n",
       "       [ 2514.2506609, 10482.351108 ],\n",
       "       [ 2501.3721711, 10481.813184 ],\n",
       "       [ 2501.26096  , 10481.566716 ]])"
      ]
     },
     "execution_count": 146,
     "metadata": {},
     "output_type": "execute_result"
    }
   ],
   "source": [
    "# 生成一个元素存放一个小区位置的数组\n",
    "x = df_multi_neig['x']\n",
    "y = df_multi_neig['y']\n",
    "x = [[i] for i in df_multi_neig['x']]\n",
    "y = [[i] for i in df_multi_neig['y']]\n",
    "x_boundary = [min(x), max(x)]\n",
    "y_boundary = [min(y), max(y)]\n",
    "multi_neig_point = np.concatenate((np.array(x), np.array(y)), axis=1)\n",
    "multi_neig_point[:5]"
   ]
  },
  {
   "cell_type": "code",
   "execution_count": 147,
   "metadata": {},
   "outputs": [],
   "source": [
    "class cuckoo:\n",
    "    def __init__(self, n, m, buildings, x_boundary, y_boundary, iter_num = 70, pa = 0.25, step = 2):\n",
    "        \"\"\"\n",
    "        Input============\n",
    "        n:鸟数\n",
    "        m:下了的槽数\n",
    "        x_boundary-> 1*2 array (min,max)\n",
    "        pa: 丢弃概率\n",
    "        step: 更新的移动距离\n",
    "        \"\"\"\n",
    "        self.n = n  # 鸟的数目\n",
    "        self.m = int(m)  # 基站个数\n",
    "        self.pa = pa\n",
    "        self.step = step\n",
    "        self.iter_num = iter_num\n",
    "        self.buildings = buildings  # 小区位置\n",
    "        self.station = {}\n",
    "        self.x_boundary = np.tile(x_boundary, (self.m,1)).reshape(self.m, 2)\n",
    "        self.y_boundary = np.tile(y_boundary, (self.m,1)).reshape(self.m, 2)\n",
    "        self.x_nests = np.empty((n, self.m))\n",
    "        self.y_nests = np.empty((n, self.m))\n",
    "        self.fitness = np.empty((1, n))    #   np.zeros((1, n))+100\n",
    "        self.best_fit = 100\n",
    "        self.best_station_x = np.zeros(1*self.m)\n",
    "        self.best_station_y = np.zeros(1*self.m)\n",
    "\n",
    "    def generate_nests(self):\n",
    "        \"\"\"\n",
    "        Generate the nests' locations\n",
    "        ---------------------------------------------------\n",
    "        Output:\n",
    "            generated nests' locations\n",
    "        \"\"\"\n",
    "        for each_nest in range(self.n):\n",
    "            x_s = self.x_boundary[:,0] + np.array([np.random.rand() for _ in range(self.m)]) * (self.x_boundary[:,1]-self.x_boundary[:,0])\n",
    "            y_s = self.y_boundary[:,0] + np.array([np.random.rand() for _ in range(self.m)]) * (self.y_boundary[:,1]-self.y_boundary[:,0])\n",
    "            \n",
    "            self.x_nests[each_nest] = x_s.copy() # 写入一行基站的x坐标\n",
    "            self.y_nests[each_nest] = y_s.copy()\n",
    "        return self.x_nests,self.y_nests\n",
    "    \n",
    "    def calc_fitness(self, x_nests, y_nests):\n",
    "        \"\"\"\n",
    "        计算适应度,即没有被一组基站的信号cover住的小区\n",
    "        如果一个小区对于最近的基站距离大于10km,则适应度+1\n",
    "        ---------------------------------------------------\n",
    "        Input parameters:\n",
    "            nests:  Nests' locations n*m array\n",
    "        Output:\n",
    "            Every nest's fitness\n",
    "        \"\"\"\n",
    "        fitness = self.fitness.copy()\n",
    "        for each_nest in range(self.n):\n",
    "            # 把x,y组合成列表\n",
    "            x = [[i] for i in x_nests[each_nest,:]]\n",
    "            y = [[i] for i in y_nests[each_nest,:]]\n",
    "            nest = np.concatenate((x, y), axis=1)\n",
    "            # print(nest[:5])\n",
    "\n",
    "            # 计算距离\n",
    "            station2build = scipy.spatial.distance.cdist(nest,multi_neig_point,metric='euclidean')\n",
    "            min_dis = station2build.min(0)    # 返回每列最小值\n",
    "            fitness[0,each_nest] = min_dis[min_dis>10].size\n",
    "            # TODO 为什么首次fitness就会有0值？\n",
    "        # self.save_best(fitness)\n",
    "        return fitness\n",
    "        \n",
    "    def save_best(self,fitness):\n",
    "        if fitness.min() < self.best_fit:\n",
    "            best_index = np.argmin(fitness)\n",
    "            self.best_station_x = self.x_nests[best_index,:].copy()\n",
    "            self.best_station_y = self.y_nests[best_index,:].copy()\n",
    "            self.best_fit = fitness.min()\n",
    "\n",
    "    def update_nests(self, step_coefficient=0.5):\n",
    "        \"\"\"\n",
    "        This function is to get new nests' locations and use new better one to replace the old nest\n",
    "        ---------------------------------------------------\n",
    "        Input parameters:\n",
    "            step_coefficient:  Step size scaling factor related to the problem's scale (default: 0.5)\n",
    "        更新:self.x/y_nests\n",
    "        \"\"\"\n",
    "        # generate steps using levy flight\n",
    "        steps = self.levy_flight()\n",
    "        x_nests = self.x_nests.copy()\n",
    "        y_nests = self.y_nests.copy()\n",
    "\n",
    "        for each_nest in range(self.n):\n",
    "            # coefficient 0.01 is to avoid levy flights becoming too aggresive\n",
    "            # and (nest[each_nest] - best_nest) could let the best nest be remained\n",
    "            step_size_x = step_coefficient * steps[each_nest] * (x_nests[each_nest] - self.best_station_x)\n",
    "            step_size_y = step_coefficient * steps[each_nest] * (y_nests[each_nest] - self.best_station_y)\n",
    "            step_direction = np.random.rand(self.m)\n",
    "            x_nests[each_nest] += step_size_x * step_direction\n",
    "            y_nests[each_nest] += step_size_y * step_direction\n",
    "\n",
    "            # apply boundary condtions\n",
    "            x_nests[each_nest][x_nests[each_nest] < self.x_boundary[0,0]] = self.x_boundary[0,0]\n",
    "            x_nests[each_nest][x_nests[each_nest] > self.x_boundary[0,1]] = self.x_boundary[0,1]\n",
    "            y_nests[each_nest][y_nests[each_nest] < self.y_boundary[0,0]] = self.y_boundary[0,0]\n",
    "            y_nests[each_nest][y_nests[each_nest] > self.y_boundary[0,1]] = self.y_boundary[0,1]\n",
    "\n",
    "        temp_fitness = self.fitness.copy()\n",
    "        new_fitness = self.calc_fitness(x_nests, y_nests)\n",
    "        self.x_nests[list(new_fitness > temp_fitness)][:] = x_nests[list(new_fitness > temp_fitness)]\n",
    "        self.y_nests[list(new_fitness > temp_fitness)] = y_nests[list(new_fitness > temp_fitness)]\n",
    "        self.save_best(self.calc_fitness(self.x_nests, self.y_nests))\n",
    "        \n",
    "    def levy_flight(self, beta = 0.5):\n",
    "        \"\"\"\n",
    "        This function implements Levy's flight.\n",
    "        ---------------------------------------------------\n",
    "        Input parameters:\n",
    "            n: Number of steps \n",
    "            m: Number of dimensions\n",
    "            beta: Power law index (note: 1 < beta < 2)\n",
    "        Output:\n",
    "            'n' levy steps in 'm' dimension\n",
    "        \"\"\"\n",
    "        sigma_u = (sc_special.gamma(1+beta)*np.sin(np.pi*beta/2)/(sc_special.gamma((1+beta)/2)*beta*(2**((beta-1)/2))))**(1/beta)\n",
    "        sigma_v = 1\n",
    "\n",
    "        u =  np.random.normal(0, sigma_u, (self.n, self.m))\n",
    "        v = np.random.normal(0, sigma_v, (self.n, self.m))\n",
    "\n",
    "        steps = u/((np.abs(v))**(1/beta))\n",
    "        return steps\n",
    "\n",
    "    def abandon_nests(self):\n",
    "        \"\"\"\n",
    "        Some cuckoos' eggs are found by hosts, and are abandoned.So cuckoos need to find new nests.\n",
    "        ---------------------------------------------------\n",
    "        Input parameters:\n",
    "            nests: Current nests' locations\n",
    "            lower_boundary: Lower bounary (example: lower_boundary = (-2, -2, -2))\n",
    "            upper_boundary: Upper boundary (example: upper_boundary = (2, 2, 2))\n",
    "            pa: Possibility that hosts find cuckoos' eggs\n",
    "        更新: self.x/y_nests\n",
    "        \"\"\"\n",
    "        x_nests = self.x_nests\n",
    "        y_nests = self.y_nests\n",
    "        for each_nest in range(self.n):\n",
    "            if (np.random.rand() < self.pa):\n",
    "                # 丢弃x、y现在的位置,移动到新的地区\n",
    "                x_step_size = np.random.rand() * (x_nests[np.random.randint(0, self.n)] - x_nests[np.random.randint(0, self.n)])\n",
    "                y_step_size = np.random.rand() * (y_nests[np.random.randint(0, self.n)] - y_nests[np.random.randint(0, self.n)])\n",
    "                x_nests[each_nest] += x_step_size\n",
    "                y_nests[each_nest] += y_step_size\n",
    "\n",
    "                # apply boundary condtions\n",
    "                x_nests[each_nest][list(x_nests[each_nest] < self.x_boundary[0,0])] = self.x_boundary[0,0]\n",
    "                x_nests[each_nest][list(x_nests[each_nest] > self.x_boundary[0,1])] = self.x_boundary[0,1]\n",
    "                y_nests[each_nest][list(y_nests[each_nest] < self.y_boundary[0,0])] = self.y_boundary[0,0]\n",
    "                y_nests[each_nest][list(y_nests[each_nest] > self.y_boundary[0,1])] = self.y_boundary[0,1]\n",
    "        self.calc_fitness(x_nests, y_nests)\n",
    "    \n",
    "    def run(self):\n",
    "        self.generate_nests()\n",
    "        self.fitness = self.calc_fitness(self.x_nests,self.y_nests)\n",
    "        for _ in range(self.iter_num):\n",
    "            self.update_nests()\n",
    "            self.abandon_nests()\n",
    "            self.fitness = self.calc_fitness(self.x_nests,self.y_nests)\n",
    "            self.save_best(self.fitness)\n",
    "            print(self.best_fit,end='\\t')\n",
    "\n",
    "    def draw(self, station_x, station_y):\n",
    "        \"\"\"\n",
    "        In: 一组基站的x,y\n",
    "        Out: 画基站与小区\n",
    "        \"\"\"\n",
    "        plt.scatter(self.buildings[:,0], self.buildings[:,1], s =10, c = 'b', alpha=0.6)\n",
    "        plt.scatter(station_x, station_y, s = 3500, c = 'orange', alpha = 0.2)\n",
    "        # plt.scatter(2500,10430,s=2600,c='red',alpha=0.5)\n",
    "        # for _ in range(self.m):\n",
    "        #     pint(10, self.best_station_x[_], self.best_station_y[_], ax=ax)\n",
    "        plt.show()\n",
    "        plt.savefig('多邻居的%d基站.jpg'%self.m)\n",
    "\n",
    "    def pint(r,x,y,ax):\n",
    "        plt.xlabel('x')\n",
    "        plt.ylabel('y')\n",
    "        # 点的横坐标为a\n",
    "        a = np.arange(x-r,x+r,0.000001)\n",
    "        # 点的纵坐标为b\n",
    "        b = np.sqrt(np.power(r,2)-np.power((a-x),2))+y\n",
    "        ax.plot(a,b,color='r',linestyle='-')\n",
    "        ax.plot(a,-b,color='r',linestyle='-')\n",
    "        ax.scatter(x,y,c='orange',s=10, marker='o')"
   ]
  },
  {
   "cell_type": "code",
   "execution_count": 150,
   "metadata": {},
   "outputs": [
    {
     "name": "stdout",
     "output_type": "stream",
     "text": [
      "\n",
      " ==============================\n",
      "对多邻居建设10个基站\n",
      "6.0\t6.0\t6.0\t2.0\t2.0\t2.0\t2.0\t0.0\t0.0\t0.0\t0.0\t0.0\t0.0\t0.0\t0.0\t0.0\t0.0\t0.0\t0.0\t0.0\t0.0\t0.0\t0.0\t0.0\t0.0\t0.0\t0.0\t0.0\t0.0\t0.0\t0.0\t0.0\t0.0\t0.0\t0.0\t0.0\t0.0\t0.0\t0.0\t0.0\t0.0\t0.0\t0.0\t0.0\t0.0\t0.0\t0.0\t0.0\t0.0\t0.0\t0.0\t0.0\t0.0\t0.0\t0.0\t0.0\t0.0\t0.0\t0.0\t0.0\t0.0\t0.0\t0.0\t0.0\t0.0\t0.0\t0.0\t0.0\t0.0\t0.0\t0.0\t0.0\t0.0\t0.0\t0.0\t0.0\t0.0\t0.0\t0.0\t0.0\t0.0\t0.0\t0.0\t0.0\t0.0\t0.0\t0.0\t0.0\t0.0\t0.0\t0.0\t0.0\t0.0\t0.0\t0.0\t0.0\t0.0\t0.0\t0.0\t0.0\t0.0\t0.0\t0.0\t0.0\t0.0\t0.0\t0.0\t0.0\t0.0\t0.0\t0.0\t0.0\t0.0\t0.0\t0.0\t0.0\t0.0\t0.0\t0.0\t0.0\t0.0\t0.0\t0.0\t0.0\t0.0\t0.0\t0.0\t0.0\t0.0\t0.0\t0.0\t0.0\t0.0\t0.0\t0.0\t0.0\t0.0\t0.0\t0.0\t0.0\t0.0\t0.0\t0.0\t0.0\t0.0\t0.0\t0.0\t0.0\t0.0\t0.0\t0.0\t0.0\t0.0\t0.0\t0.0\t0.0\t0.0\t0.0\t0.0\t0.0\t0.0\t0.0\t0.0\t0.0\t0.0\t0.0\t0.0\t0.0\t0.0\t0.0\t0.0\t0.0\t0.0\t0.0\t0.0\t0.0\t0.0\t0.0\t0.0\t0.0\t0.0\t0.0\t0.0\t0.0\t0.0\t0.0\t0.0\t0.0\t0.0\t0.0\t0.0\t0.0\t0.0\t0.0\t0.0\t0.0\t0.0\t0.0\t0.0\t0.0\t"
     ]
    },
    {
     "data": {
      "image/png": "[encoded data removed]",
      "text/plain": [
       "<Figure size 432x288 with 1 Axes>"
      ]
     },
     "metadata": {
      "needs_background": "light"
     },
     "output_type": "display_data"
    },
    {
     "name": "stdout",
     "output_type": "stream",
     "text": [
      "\n",
      " ==============================\n",
      "对多邻居建设9个基站\n",
      "4.0\t4.0\t4.0\t4.0\t4.0\t4.0\t4.0\t4.0\t4.0\t4.0\t4.0\t4.0\t4.0\t1.0\t1.0\t1.0\t1.0\t1.0\t0.0\t0.0\t0.0\t0.0\t0.0\t0.0\t0.0\t0.0\t0.0\t0.0\t0.0\t0.0\t0.0\t0.0\t0.0\t0.0\t0.0\t0.0\t0.0\t0.0\t0.0\t0.0\t0.0\t0.0\t0.0\t0.0\t0.0\t0.0\t0.0\t0.0\t0.0\t0.0\t0.0\t0.0\t0.0\t0.0\t0.0\t0.0\t0.0\t0.0\t0.0\t0.0\t0.0\t0.0\t0.0\t0.0\t0.0\t0.0\t0.0\t0.0\t0.0\t0.0\t0.0\t0.0\t0.0\t0.0\t0.0\t0.0\t0.0\t0.0\t0.0\t0.0\t0.0\t0.0\t0.0\t0.0\t0.0\t0.0\t0.0\t0.0\t0.0\t0.0\t0.0\t0.0\t0.0\t0.0\t0.0\t0.0\t0.0\t0.0\t0.0\t0.0\t0.0\t0.0\t0.0\t0.0\t0.0\t0.0\t0.0\t0.0\t0.0\t0.0\t0.0\t0.0\t0.0\t0.0\t0.0\t0.0\t0.0\t0.0\t0.0\t0.0\t0.0\t0.0\t0.0\t0.0\t0.0\t0.0\t0.0\t0.0\t0.0\t0.0\t0.0\t0.0\t0.0\t0.0\t0.0\t0.0\t0.0\t0.0\t0.0\t0.0\t0.0\t0.0\t0.0\t0.0\t0.0\t0.0\t0.0\t0.0\t0.0\t0.0\t0.0\t0.0\t0.0\t0.0\t0.0\t0.0\t0.0\t0.0\t0.0\t0.0\t0.0\t0.0\t0.0\t0.0\t0.0\t0.0\t0.0\t0.0\t0.0\t0.0\t0.0\t0.0\t0.0\t0.0\t0.0\t0.0\t0.0\t0.0\t0.0\t0.0\t0.0\t0.0\t0.0\t0.0\t0.0\t0.0\t0.0\t0.0\t0.0\t0.0\t0.0\t0.0\t0.0\t0.0\t0.0\t0.0\t0.0\t0.0\t0.0\t0.0\t"
     ]
    },
    {
     "data": {
      "image/png": "[encoded data removed]",
      "text/plain": [
       "<Figure size 432x288 with 1 Axes>"
      ]
     },
     "metadata": {
      "needs_background": "light"
     },
     "output_type": "display_data"
    },
    {
     "name": "stdout",
     "output_type": "stream",
     "text": [
      "\n",
      " ==============================\n",
      "对多邻居建设8个基站\n",
      "3.0\t3.0\t3.0\t3.0\t3.0\t3.0\t3.0\t3.0\t3.0\t3.0\t3.0\t3.0\t2.0\t2.0\t2.0\t2.0\t2.0\t0.0\t0.0\t0.0\t0.0\t0.0\t0.0\t0.0\t0.0\t0.0\t0.0\t0.0\t0.0\t0.0\t0.0\t0.0\t0.0\t0.0\t0.0\t0.0\t0.0\t0.0\t0.0\t0.0\t0.0\t0.0\t0.0\t0.0\t0.0\t0.0\t0.0\t0.0\t0.0\t0.0\t0.0\t0.0\t0.0\t0.0\t0.0\t0.0\t0.0\t0.0\t0.0\t0.0\t0.0\t0.0\t0.0\t0.0\t0.0\t0.0\t0.0\t0.0\t0.0\t0.0\t0.0\t0.0\t0.0\t0.0\t0.0\t0.0\t0.0\t0.0\t0.0\t0.0\t0.0\t0.0\t0.0\t0.0\t0.0\t0.0\t0.0\t0.0\t0.0\t0.0\t0.0\t0.0\t0.0\t0.0\t0.0\t0.0\t0.0\t0.0\t0.0\t0.0\t0.0\t0.0\t0.0\t0.0\t0.0\t0.0\t0.0\t0.0\t0.0\t0.0\t0.0\t0.0\t0.0\t0.0\t0.0\t0.0\t0.0\t0.0\t0.0\t0.0\t0.0\t0.0\t0.0\t0.0\t0.0\t0.0\t0.0\t0.0\t0.0\t0.0\t0.0\t0.0\t0.0\t0.0\t0.0\t0.0\t0.0\t0.0\t0.0\t0.0\t0.0\t0.0\t0.0\t0.0\t0.0\t0.0\t0.0\t0.0\t0.0\t0.0\t0.0\t0.0\t0.0\t0.0\t0.0\t0.0\t0.0\t0.0\t0.0\t0.0\t0.0\t0.0\t0.0\t0.0\t0.0\t0.0\t0.0\t0.0\t0.0\t0.0\t0.0\t0.0\t0.0\t0.0\t0.0\t0.0\t0.0\t0.0\t0.0\t0.0\t0.0\t0.0\t0.0\t0.0\t0.0\t0.0\t0.0\t0.0\t0.0\t0.0\t0.0\t0.0\t0.0\t0.0\t0.0\t0.0\t0.0\t0.0\t0.0\t0.0\t"
     ]
    },
    {
     "data": {
      "image/png": "[encoded data removed]",
      "text/plain": [
       "<Figure size 432x288 with 1 Axes>"
      ]
     },
     "metadata": {
      "needs_background": "light"
     },
     "output_type": "display_data"
    },
    {
     "name": "stdout",
     "output_type": "stream",
     "text": [
      "\n",
      " ==============================\n",
      "对多邻居建设7个基站\n",
      "39.0\t39.0\t6.0\t6.0\t6.0\t6.0\t6.0\t6.0\t4.0\t4.0\t4.0\t4.0\t2.0\t2.0\t2.0\t1.0\t1.0\t1.0\t1.0\t1.0\t1.0\t1.0\t1.0\t1.0\t1.0\t1.0\t1.0\t1.0\t1.0\t1.0\t1.0\t1.0\t1.0\t1.0\t1.0\t1.0\t1.0\t1.0\t1.0\t1.0\t1.0\t1.0\t1.0\t1.0\t1.0\t1.0\t0.0\t0.0\t0.0\t0.0\t0.0\t0.0\t0.0\t0.0\t0.0\t0.0\t0.0\t0.0\t0.0\t0.0\t0.0\t0.0\t0.0\t0.0\t0.0\t0.0\t0.0\t0.0\t0.0\t0.0\t0.0\t0.0\t0.0\t0.0\t0.0\t0.0\t0.0\t0.0\t0.0\t0.0\t0.0\t0.0\t0.0\t0.0\t0.0\t0.0\t0.0\t0.0\t0.0\t0.0\t0.0\t0.0\t0.0\t0.0\t0.0\t0.0\t0.0\t0.0\t0.0\t0.0\t0.0\t0.0\t0.0\t0.0\t0.0\t0.0\t0.0\t0.0\t0.0\t0.0\t0.0\t0.0\t0.0\t0.0\t0.0\t0.0\t0.0\t0.0\t0.0\t0.0\t0.0\t0.0\t0.0\t0.0\t0.0\t0.0\t0.0\t0.0\t0.0\t0.0\t0.0\t0.0\t0.0\t0.0\t0.0\t0.0\t0.0\t0.0\t0.0\t0.0\t0.0\t0.0\t0.0\t0.0\t0.0\t0.0\t0.0\t0.0\t0.0\t0.0\t0.0\t0.0\t0.0\t0.0\t0.0\t0.0\t0.0\t0.0\t0.0\t0.0\t0.0\t0.0\t0.0\t0.0\t0.0\t0.0\t0.0\t0.0\t0.0\t0.0\t0.0\t0.0\t0.0\t0.0\t0.0\t0.0\t0.0\t0.0\t0.0\t0.0\t0.0\t0.0\t0.0\t0.0\t0.0\t0.0\t0.0\t0.0\t0.0\t0.0\t0.0\t0.0\t0.0\t0.0\t0.0\t0.0\t0.0\t0.0\t0.0\t0.0\t"
     ]
    },
    {
     "data": {
      "image/png": "[encoded data removed]",
      "text/plain": [
       "<Figure size 432x288 with 1 Axes>"
      ]
     },
     "metadata": {
      "needs_background": "light"
     },
     "output_type": "display_data"
    },
    {
     "name": "stdout",
     "output_type": "stream",
     "text": [
      "\n",
      " ==============================\n",
      "对多邻居建设6个基站\n",
      "100\t35.0\t35.0\t14.0\t14.0\t14.0\t14.0\t14.0\t14.0\t2.0\t2.0\t2.0\t2.0\t1.0\t1.0\t1.0\t1.0\t1.0\t1.0\t1.0\t1.0\t1.0\t1.0\t1.0\t1.0\t1.0\t1.0\t1.0\t1.0\t1.0\t1.0\t1.0\t1.0\t1.0\t1.0\t1.0\t1.0\t1.0\t1.0\t1.0\t1.0\t1.0\t1.0\t1.0\t1.0\t1.0\t1.0\t1.0\t1.0\t1.0\t1.0\t1.0\t1.0\t1.0\t1.0\t1.0\t1.0\t1.0\t1.0\t1.0\t1.0\t1.0\t1.0\t1.0\t1.0\t1.0\t1.0\t1.0\t1.0\t1.0\t1.0\t1.0\t1.0\t1.0\t1.0\t1.0\t1.0\t1.0\t1.0\t1.0\t1.0\t1.0\t1.0\t1.0\t1.0\t1.0\t1.0\t1.0\t1.0\t1.0\t1.0\t1.0\t1.0\t1.0\t1.0\t1.0\t1.0\t1.0\t1.0\t1.0\t1.0\t1.0\t0.0\t0.0\t0.0\t0.0\t0.0\t0.0\t0.0\t0.0\t0.0\t0.0\t0.0\t0.0\t0.0\t0.0\t0.0\t0.0\t0.0\t0.0\t0.0\t0.0\t0.0\t0.0\t0.0\t0.0\t0.0\t0.0\t0.0\t0.0\t0.0\t0.0\t0.0\t0.0\t0.0\t0.0\t0.0\t0.0\t0.0\t0.0\t0.0\t0.0\t0.0\t0.0\t0.0\t0.0\t0.0\t0.0\t0.0\t0.0\t0.0\t0.0\t0.0\t0.0\t0.0\t0.0\t0.0\t0.0\t0.0\t0.0\t0.0\t0.0\t0.0\t0.0\t0.0\t0.0\t0.0\t0.0\t0.0\t0.0\t0.0\t0.0\t0.0\t0.0\t0.0\t0.0\t0.0\t0.0\t0.0\t0.0\t0.0\t0.0\t0.0\t0.0\t0.0\t0.0\t0.0\t0.0\t0.0\t0.0\t0.0\t0.0\t0.0\t0.0\t0.0\t0.0\t0.0\t0.0\t0.0\t0.0\t"
     ]
    },
    {
     "data": {
      "image/png": "[encoded data removed]",
      "text/plain": [
       "<Figure size 432x288 with 1 Axes>"
      ]
     },
     "metadata": {
      "needs_background": "light"
     },
     "output_type": "display_data"
    },
    {
     "name": "stdout",
     "output_type": "stream",
     "text": [
      "\n",
      " ==============================\n",
      "对多邻居建设5个基站\n",
      "41.0\t4.0\t4.0\t4.0\t4.0\t4.0\t4.0\t4.0\t3.0\t3.0\t3.0\t3.0\t3.0\t3.0\t2.0\t2.0\t2.0\t2.0\t0.0\t0.0\t0.0\t0.0\t0.0\t0.0\t0.0\t0.0\t0.0\t0.0\t0.0\t0.0\t0.0\t0.0\t0.0\t0.0\t0.0\t0.0\t0.0\t0.0\t0.0\t0.0\t0.0\t0.0\t0.0\t0.0\t0.0\t0.0\t0.0\t0.0\t0.0\t0.0\t0.0\t0.0\t0.0\t0.0\t0.0\t0.0\t0.0\t0.0\t0.0\t0.0\t0.0\t0.0\t0.0\t0.0\t0.0\t0.0\t0.0\t0.0\t0.0\t0.0\t0.0\t0.0\t0.0\t0.0\t0.0\t0.0\t0.0\t0.0\t0.0\t0.0\t0.0\t0.0\t0.0\t0.0\t0.0\t0.0\t0.0\t0.0\t0.0\t0.0\t0.0\t0.0\t0.0\t0.0\t0.0\t0.0\t0.0\t0.0\t0.0\t0.0\t0.0\t0.0\t0.0\t0.0\t0.0\t0.0\t0.0\t0.0\t0.0\t0.0\t0.0\t0.0\t0.0\t0.0\t0.0\t0.0\t0.0\t0.0\t0.0\t0.0\t0.0\t0.0\t0.0\t0.0\t0.0\t0.0\t0.0\t0.0\t0.0\t0.0\t0.0\t0.0\t0.0\t0.0\t0.0\t0.0\t0.0\t0.0\t0.0\t0.0\t0.0\t0.0\t0.0\t0.0\t0.0\t0.0\t0.0\t0.0\t0.0\t0.0\t0.0\t0.0\t0.0\t0.0\t0.0\t0.0\t0.0\t0.0\t0.0\t0.0\t0.0\t0.0\t0.0\t0.0\t0.0\t0.0\t0.0\t0.0\t0.0\t0.0\t0.0\t0.0\t0.0\t0.0\t0.0\t0.0\t0.0\t0.0\t0.0\t0.0\t0.0\t0.0\t0.0\t0.0\t0.0\t0.0\t0.0\t0.0\t0.0\t0.0\t0.0\t0.0\t0.0\t0.0\t0.0\t0.0\t0.0\t0.0\t0.0\t0.0\t"
     ]
    },
    {
     "data": {
      "image/png": "[encoded data removed]",
      "text/plain": [
       "<Figure size 432x288 with 1 Axes>"
      ]
     },
     "metadata": {
      "needs_background": "light"
     },
     "output_type": "display_data"
    },
    {
     "name": "stdout",
     "output_type": "stream",
     "text": [
      "\n",
      " ==============================\n",
      "对多邻居建设4个基站\n",
      "14.0\t11.0\t3.0\t3.0\t3.0\t3.0\t3.0\t3.0\t3.0\t3.0\t3.0\t3.0\t2.0\t2.0\t2.0\t2.0\t2.0\t1.0\t1.0\t1.0\t1.0\t1.0\t1.0\t1.0\t1.0\t1.0\t1.0\t1.0\t1.0\t1.0\t1.0\t1.0\t1.0\t1.0\t1.0\t1.0\t1.0\t1.0\t1.0\t1.0\t1.0\t1.0\t1.0\t1.0\t1.0\t1.0\t1.0\t1.0\t1.0\t1.0\t1.0\t1.0\t1.0\t1.0\t1.0\t1.0\t1.0\t1.0\t1.0\t1.0\t1.0\t1.0\t1.0\t1.0\t1.0\t1.0\t1.0\t1.0\t1.0\t1.0\t1.0\t1.0\t1.0\t1.0\t1.0\t1.0\t1.0\t1.0\t1.0\t1.0\t1.0\t1.0\t1.0\t1.0\t1.0\t1.0\t1.0\t1.0\t1.0\t1.0\t1.0\t1.0\t1.0\t1.0\t1.0\t1.0\t1.0\t1.0\t1.0\t1.0\t1.0\t1.0\t1.0\t1.0\t1.0\t1.0\t1.0\t1.0\t1.0\t1.0\t1.0\t1.0\t1.0\t1.0\t1.0\t1.0\t1.0\t1.0\t1.0\t1.0\t1.0\t1.0\t1.0\t1.0\t1.0\t1.0\t1.0\t1.0\t1.0\t1.0\t1.0\t1.0\t1.0\t1.0\t1.0\t1.0\t1.0\t1.0\t1.0\t1.0\t1.0\t1.0\t1.0\t1.0\t1.0\t1.0\t1.0\t1.0\t1.0\t1.0\t1.0\t1.0\t1.0\t1.0\t1.0\t1.0\t1.0\t1.0\t1.0\t1.0\t1.0\t1.0\t1.0\t1.0\t1.0\t1.0\t1.0\t1.0\t1.0\t1.0\t1.0\t1.0\t1.0\t1.0\t1.0\t1.0\t1.0\t1.0\t1.0\t1.0\t1.0\t1.0\t1.0\t1.0\t1.0\t1.0\t1.0\t1.0\t1.0\t1.0\t1.0\t1.0\t1.0\t1.0\t1.0\t1.0\t1.0\t1.0\t1.0\t1.0\t"
     ]
    },
    {
     "data": {
      "image/png": "[encoded data removed]",
      "text/plain": [
       "<Figure size 432x288 with 1 Axes>"
      ]
     },
     "metadata": {
      "needs_background": "light"
     },
     "output_type": "display_data"
    },
    {
     "name": "stdout",
     "output_type": "stream",
     "text": [
      "\n",
      " ==============================\n",
      "对多邻居建设3个基站\n",
      "100\t7.0\t7.0\t7.0\t5.0\t5.0\t5.0\t5.0\t5.0\t5.0\t5.0\t5.0\t5.0\t5.0\t5.0\t5.0\t5.0\t5.0\t5.0\t5.0\t5.0\t5.0\t5.0\t5.0\t5.0\t5.0\t5.0\t5.0\t5.0\t5.0\t5.0\t5.0\t5.0\t5.0\t5.0\t5.0\t4.0\t4.0\t4.0\t4.0\t4.0\t4.0\t4.0\t4.0\t4.0\t4.0\t4.0\t4.0\t4.0\t4.0\t4.0\t4.0\t4.0\t4.0\t4.0\t4.0\t3.0\t3.0\t3.0\t3.0\t3.0\t3.0\t3.0\t3.0\t3.0\t3.0\t3.0\t3.0\t3.0\t3.0\t3.0\t3.0\t3.0\t3.0\t3.0\t3.0\t3.0\t3.0\t3.0\t3.0\t3.0\t3.0\t3.0\t3.0\t3.0\t3.0\t3.0\t3.0\t3.0\t3.0\t3.0\t3.0\t3.0\t3.0\t3.0\t3.0\t3.0\t3.0\t3.0\t3.0\t3.0\t3.0\t3.0\t2.0\t2.0\t2.0\t2.0\t0.0\t0.0\t0.0\t0.0\t0.0\t0.0\t0.0\t0.0\t0.0\t0.0\t0.0\t0.0\t0.0\t0.0\t0.0\t0.0\t0.0\t0.0\t0.0\t0.0\t0.0\t0.0\t0.0\t0.0\t0.0\t0.0\t0.0\t0.0\t0.0\t0.0\t0.0\t0.0\t0.0\t0.0\t0.0\t0.0\t0.0\t0.0\t0.0\t0.0\t0.0\t0.0\t0.0\t0.0\t0.0\t0.0\t0.0\t0.0\t0.0\t0.0\t0.0\t0.0\t0.0\t0.0\t0.0\t0.0\t0.0\t0.0\t0.0\t0.0\t0.0\t0.0\t0.0\t0.0\t0.0\t0.0\t0.0\t0.0\t0.0\t0.0\t0.0\t0.0\t0.0\t0.0\t0.0\t0.0\t0.0\t0.0\t0.0\t0.0\t0.0\t0.0\t0.0\t0.0\t0.0\t0.0\t0.0\t0.0\t0.0\t0.0\t0.0\t0.0\t0.0\t"
     ]
    },
    {
     "data": {
      "image/png": "[encoded data removed]",
      "text/plain": [
       "<Figure size 432x288 with 1 Axes>"
      ]
     },
     "metadata": {
      "needs_background": "light"
     },
     "output_type": "display_data"
    },
    {
     "name": "stdout",
     "output_type": "stream",
     "text": [
      "\n",
      " ==============================\n",
      "对多邻居建设2个基站\n",
      "100\t100\t11.0\t11.0\t11.0\t6.0\t6.0\t6.0\t6.0\t6.0\t6.0\t6.0\t6.0\t6.0\t6.0\t6.0\t6.0\t3.0\t3.0\t3.0\t3.0\t3.0\t3.0\t3.0\t3.0\t3.0\t3.0\t3.0\t3.0\t3.0\t3.0\t3.0\t3.0\t3.0\t3.0\t3.0\t3.0\t3.0\t3.0\t3.0\t3.0\t3.0\t3.0\t3.0\t3.0\t3.0\t3.0\t3.0\t3.0\t3.0\t3.0\t3.0\t3.0\t3.0\t3.0\t3.0\t3.0\t3.0\t3.0\t3.0\t3.0\t3.0\t3.0\t3.0\t3.0\t3.0\t3.0\t3.0\t3.0\t3.0\t3.0\t3.0\t3.0\t3.0\t3.0\t3.0\t3.0\t3.0\t3.0\t3.0\t3.0\t3.0\t3.0\t3.0\t3.0\t3.0\t3.0\t3.0\t3.0\t3.0\t3.0\t3.0\t3.0\t3.0\t3.0\t3.0\t3.0\t3.0\t3.0\t3.0\t3.0\t3.0\t3.0\t3.0\t3.0\t3.0\t3.0\t3.0\t3.0\t3.0\t3.0\t3.0\t3.0\t3.0\t3.0\t3.0\t3.0\t3.0\t3.0\t3.0\t3.0\t3.0\t3.0\t3.0\t3.0\t3.0\t3.0\t3.0\t3.0\t3.0\t3.0\t3.0\t3.0\t3.0\t3.0\t3.0\t3.0\t3.0\t3.0\t3.0\t3.0\t3.0\t3.0\t3.0\t3.0\t3.0\t3.0\t3.0\t3.0\t3.0\t3.0\t3.0\t3.0\t3.0\t3.0\t3.0\t3.0\t3.0\t3.0\t3.0\t3.0\t3.0\t3.0\t3.0\t3.0\t3.0\t3.0\t3.0\t3.0\t3.0\t3.0\t3.0\t3.0\t3.0\t3.0\t3.0\t3.0\t3.0\t3.0\t3.0\t3.0\t3.0\t3.0\t3.0\t3.0\t3.0\t3.0\t3.0\t3.0\t3.0\t3.0\t3.0\t3.0\t3.0\t3.0\t3.0\t3.0\t3.0\t3.0\t3.0\t"
     ]
    },
    {
     "data": {
      "image/png": "[encoded data removed]",
      "text/plain": [
       "<Figure size 432x288 with 1 Axes>"
      ]
     },
     "metadata": {
      "needs_background": "light"
     },
     "output_type": "display_data"
    },
    {
     "data": {
      "text/plain": [
       "<Figure size 432x288 with 0 Axes>"
      ]
     },
     "metadata": {},
     "output_type": "display_data"
    }
   ],
   "source": [
    "\"\"\"\n",
    "用布谷鸟算法寻优:\n",
    "设每代50组数据一并计算, 起始迭代的基站数m为小区/2, \n",
    "适应性函数为未被包含的小区数, 适应性函数为0时, 基站数m-1进行新的布谷鸟搜索\n",
    "所以当前布谷鸟跳出的条件是: 循环次数达到或者适应度函数为0\n",
    "取到最优的情况是适应度函数不为零,但迭代次数用完\n",
    "\"\"\"\n",
    "\n",
    "for m in range(10,1,-1):\n",
    "    print('\\n','='*30)\n",
    "    print(\"对多邻居建设%d个基站\"%m)\n",
    "    cuckoo_station = cuckoo(50, m = m, buildings=multi_neig_point,iter_num=200, x_boundary=x_boundary, y_boundary=y_boundary, step = 2)\n",
    "    cuckoo_station.run()\n",
    "    cuckoo_station.draw(cuckoo_station.best_station_x, cuckoo_station.best_station_y)\n",
    "    cuckoo_station.best_fit\n",
    "\n",
    "    # 存储经纬度\n",
    "    # df_build2build.columns.append('%d_x'%m)\n",
    "    # df_build2build.columns.append('%d_y'%m)\n",
    "    # df_multi_station = pd.DataFrame((cuckoo_station.best_station_x/111.1, cuckoo_station.best_station_y/92))\n",
    "    df_multi_station = pd.DataFrame()\n",
    "    df_multi_station.insert(loc=len(df_multi_station.columns), column=str('经度%d'%m), value=cuckoo_station.best_station_x/111.1)\n",
    "    df_multi_station.insert(loc=len(df_multi_station.columns), column=str('纬度%d'%m), value=cuckoo_station.best_station_y/92)\n",
    "    # df_build2build['x'] = cuckoo_station.best_station_x/111.1\n",
    "    # df_build2build['y'] = cuckoo_station.best_station_y/92\n",
    "    df_multi_station.to_csv('多小区%d基站位置.csv'%m, encoding=\"utf_8_sig\")"
   ]
  }
 ],
 "metadata": {
  "interpreter": {
   "hash": "47325e58be4a2059d68335379060bff4e17578076ef74ae66df13786a84c1838"
  },
  "kernelspec": {
   "display_name": "Python 3.9.5 ('research')",
   "language": "python",
   "name": "python3"
  },
  "language_info": {
   "codemirror_mode": {
    "name": "ipython",
    "version": 3
   },
   "file_extension": ".py",
   "mimetype": "text/x-python",
   "name": "python",
   "nbconvert_exporter": "python",
   "pygments_lexer": "ipython3",
   "version": "3.9.5"
  },
  "orig_nbformat": 4
 },
 "nbformat": 4,
 "nbformat_minor": 2
}
